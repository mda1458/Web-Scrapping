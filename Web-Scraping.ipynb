{
 "cells": [
  {
   "cell_type": "markdown",
   "id": "792bd68a",
   "metadata": {},
   "source": [
    "# Web scrapping Using Python3"
   ]
  },
  {
   "cell_type": "markdown",
   "id": "e858447c",
   "metadata": {},
   "source": [
    "### GitHub Best repositories of certain topics"
   ]
  },
  {
   "cell_type": "markdown",
   "id": "71fc75f6",
   "metadata": {},
   "source": [
    "### Outline:\n",
    "- We are going to scrape https://github.com/topics\n",
    "- We will get topics and then we scrape topic title, URL and description\n",
    "- For every topic we will get top 25 repo and we grab repo name, username, rating and URL\n",
    "- Then we will make CSV"
   ]
  },
  {
   "cell_type": "markdown",
   "id": "ffed2d81",
   "metadata": {},
   "source": [
    "### Importing libraries"
   ]
  },
  {
   "cell_type": "code",
   "execution_count": 1,
   "id": "f49ad273",
   "metadata": {},
   "outputs": [],
   "source": [
    "import requests\n",
    "import pandas as pd\n",
    "from bs4 import BeautifulSoup"
   ]
  },
  {
   "cell_type": "markdown",
   "id": "27f07b9d",
   "metadata": {},
   "source": [
    "### Defining functions"
   ]
  },
  {
   "cell_type": "markdown",
   "id": "3cdeb2c0",
   "metadata": {},
   "source": [
    "Downloading page and parsing"
   ]
  },
  {
   "cell_type": "code",
   "execution_count": 2,
   "id": "de22efc0",
   "metadata": {},
   "outputs": [],
   "source": [
    "def get_topics_page():\n",
    "    topics_url = 'https://github.com/topics'\n",
    "    # Downloading page\n",
    "    response = requests.get(topics_url)\n",
    "    # Status Checker\n",
    "    if response.status_code != 200:\n",
    "        raise Exception(f'Failed to load page {topic_url}')\n",
    "    # Parser\n",
    "    doc = BeautifulSoup(response.text, 'html.parser')\n",
    "    return doc"
   ]
  },
  {
   "cell_type": "markdown",
   "id": "bf5370ac",
   "metadata": {},
   "source": [
    "Getting Topics Information"
   ]
  },
  {
   "cell_type": "code",
   "execution_count": 3,
   "id": "ee46b6ea",
   "metadata": {},
   "outputs": [],
   "source": [
    "def get_topic_titles(doc):\n",
    "    # Find by inspect element\n",
    "    selection_class = 'f3 lh-condensed mb-0 mt-1 Link--primary'\n",
    "    # Tags searching\n",
    "    topic_title_tags = doc.find_all('p', {'class': selection_class})\n",
    "    # Titles extraction and appending to list\n",
    "    topic_titles = [tag.text for tag in topic_title_tags]\n",
    "    return topic_titles"
   ]
  },
  {
   "cell_type": "code",
   "execution_count": 4,
   "id": "ed5fab1d",
   "metadata": {},
   "outputs": [],
   "source": [
    "def get_topic_descs(doc):\n",
    "    # Find by inspect element\n",
    "    desc_selector = 'f5 color-fg-muted mb-0 mt-1'\n",
    "    # Tags searching\n",
    "    topic_desc_tags = doc.find_all('p', {'class': desc_selector})\n",
    "    # Description extraction and appending to list\n",
    "    topic_descs = [tag.text.strip() for tag in topic_desc_tags]\n",
    "    return topic_descs"
   ]
  },
  {
   "cell_type": "code",
   "execution_count": 5,
   "id": "04225797",
   "metadata": {},
   "outputs": [],
   "source": [
    "def get_topic_urls(doc):\n",
    "    # Tags searching\n",
    "    topic_link_tags = doc.find_all('a', {'class': 'no-underline flex-1 d-flex flex-column'})\n",
    "    # URL extraction and appending to list\n",
    "    parent_url='https://github.com'\n",
    "    topic_urls=[(parent_url+tag['href']) for tag in topic_link_tags]\n",
    "    return topic_urls"
   ]
  },
  {
   "cell_type": "markdown",
   "id": "48ea4929",
   "metadata": {},
   "source": [
    "Getting info of each topics"
   ]
  },
  {
   "cell_type": "code",
   "execution_count": 6,
   "id": "40c60915",
   "metadata": {},
   "outputs": [],
   "source": [
    "def getRepoInfo(tags,star_tag):\n",
    "    a_tags=tags.find_all('a')\n",
    "    username=a_tags[0].text.strip()\n",
    "    repo=a_tags[1].text.strip()\n",
    "    parent_url='https://github.com'\n",
    "    repo_url=parent_url+a_tags[1]['href']\n",
    "    stars=star_tag['title']\n",
    "    return username,repo,stars,repo_url"
   ]
  },
  {
   "cell_type": "markdown",
   "id": "f1a6ce85",
   "metadata": {},
   "source": [
    "Compiling all details to DF"
   ]
  },
  {
   "cell_type": "code",
   "execution_count": 7,
   "id": "a7fb4ab8",
   "metadata": {},
   "outputs": [],
   "source": [
    "def makeDfOFTopicURL(URL):\n",
    "    # Downloading page\n",
    "    url_response = requests.get(URL)\n",
    "    content=url_response.text\n",
    "    # Parsing And Data Extraction\n",
    "    parsing=BeautifulSoup(content, 'html.parser')\n",
    "    tags=parsing.find_all('h3',class_='f3 color-fg-muted text-normal lh-condensed')\n",
    "    stars_tags=parsing.find_all('span', {'id':'repo-stars-counter-star'})\n",
    "    # Making its dictionary\n",
    "    topic_info_dict={\n",
    "    'Username':[],\n",
    "    'Repository':[],\n",
    "    'Stars':[],\n",
    "    'Repository URL':[]\n",
    "    }\n",
    "    for i in range (len(tags)):\n",
    "        repoInfo=getRepoInfo(tags[i],stars_tags[i])\n",
    "        topic_info_dict['Username'].append(repoInfo[0])\n",
    "        topic_info_dict['Repository'].append(repoInfo[1])\n",
    "        topic_info_dict['Stars'].append(repoInfo[2])\n",
    "        topic_info_dict['Repository URL'].append(repoInfo[3])\n",
    "    return pd.DataFrame(topic_info_dict)"
   ]
  },
  {
   "cell_type": "markdown",
   "id": "0f879c6b",
   "metadata": {},
   "source": [
    "Main Scrapper"
   ]
  },
  {
   "cell_type": "code",
   "execution_count": 8,
   "id": "4272fcda",
   "metadata": {},
   "outputs": [],
   "source": [
    "def scrape_topics(URL,name):\n",
    "    topic_df=makeDfOFTopicURL(URL)\n",
    "    topic_df.to_csv(name+'.csv',index=None)"
   ]
  },
  {
   "cell_type": "code",
   "execution_count": 9,
   "id": "bf3cbf20",
   "metadata": {},
   "outputs": [],
   "source": [
    "def scrapeData():\n",
    "    print('Scrapping...')\n",
    "    for index,row in topicsDF.iterrows():\n",
    "        a=row['Topics']\n",
    "        print(f'Scrapping top repositories for {a}')\n",
    "        scrape_topics(row['URL'],row['Topics'])"
   ]
  },
  {
   "cell_type": "markdown",
   "id": "2e06ff3d",
   "metadata": {},
   "source": [
    "### Main Program"
   ]
  },
  {
   "cell_type": "markdown",
   "id": "0481fffa",
   "metadata": {},
   "source": [
    "Converting extracted info to csv using pandas DataFrame"
   ]
  },
  {
   "cell_type": "code",
   "execution_count": 10,
   "id": "944514ed",
   "metadata": {},
   "outputs": [],
   "source": [
    "doc=get_topics_page()\n",
    "dataDict={'Topics': get_topic_titles(doc),\n",
    "        'Description':get_topic_descs(doc),\n",
    "        'URL':get_topic_urls(doc)}\n",
    "topicsDF = pd.DataFrame(dataDict)"
   ]
  },
  {
   "cell_type": "code",
   "execution_count": null,
   "id": "f9980ea6",
   "metadata": {},
   "outputs": [
    {
     "name": "stdout",
     "output_type": "stream",
     "text": [
      "Scrapping...\n",
      "Scrapping top repositories for 3D\n",
      "Scrapping top repositories for Ajax\n",
      "Scrapping top repositories for Algorithm\n",
      "Scrapping top repositories for Amp\n",
      "Scrapping top repositories for Android\n",
      "Scrapping top repositories for Angular\n",
      "Scrapping top repositories for Ansible\n",
      "Scrapping top repositories for API\n",
      "Scrapping top repositories for Arduino\n",
      "Scrapping top repositories for ASP.NET\n",
      "Scrapping top repositories for Atom\n",
      "Scrapping top repositories for Awesome Lists\n",
      "Scrapping top repositories for Amazon Web Services\n",
      "Scrapping top repositories for Azure\n",
      "Scrapping top repositories for Babel\n",
      "Scrapping top repositories for Bash\n",
      "Scrapping top repositories for Bitcoin\n",
      "Scrapping top repositories for Bootstrap\n",
      "Scrapping top repositories for Bot\n",
      "Scrapping top repositories for C\n",
      "Scrapping top repositories for Chrome\n",
      "Scrapping top repositories for Chrome extension\n"
     ]
    }
   ],
   "source": [
    "scrapeData()"
   ]
  },
  {
   "cell_type": "code",
   "execution_count": null,
   "id": "8a2e4a30",
   "metadata": {},
   "outputs": [],
   "source": []
  }
 ],
 "metadata": {
  "kernelspec": {
   "display_name": "Python 3 (ipykernel)",
   "language": "python",
   "name": "python3"
  },
  "language_info": {
   "codemirror_mode": {
    "name": "ipython",
    "version": 3
   },
   "file_extension": ".py",
   "mimetype": "text/x-python",
   "name": "python",
   "nbconvert_exporter": "python",
   "pygments_lexer": "ipython3",
   "version": "3.10.0"
  }
 },
 "nbformat": 4,
 "nbformat_minor": 5
}
